{
  "nbformat": 4,
  "nbformat_minor": 0,
  "metadata": {
    "colab": {
      "name": "Atividade_2_Interacao_de_fotons_na_materia.ipynb",
      "provenance": []
    },
    "kernelspec": {
      "name": "python3",
      "display_name": "Python 3"
    },
    "language_info": {
      "name": "python"
    }
  },
  "cells": [
    {
      "cell_type": "code",
      "metadata": {
        "id": "CANAJFY9lbGv"
      },
      "source": [
        "## Preparação do ambiente\n",
        "# Carregando as bibliotecas necessárias\n",
        "%matplotlib inline\n",
        "\n",
        "import numpy as np\n",
        "import matplotlib.pyplot as plt\n",
        "from scipy.integrate import quad, odeint\n",
        "from scipy.interpolate import interp1d\n",
        "import os as os\n",
        "DATA_FOLDER = os.path.join(os.getcwd(),'iba_activities')\n",
        "\n",
        "!git clone https://github.com/tiagofiorini/iba_activities.git"
      ],
      "execution_count": null,
      "outputs": []
    },
    {
      "cell_type": "markdown",
      "metadata": {
        "id": "atA0t5yKv7zy"
      },
      "source": [
        "# Atividade 2-A: Coeficiente de atenuação e seções de choque"
      ]
    },
    {
      "cell_type": "markdown",
      "metadata": {
        "id": "8_rizwkQxaHD"
      },
      "source": [
        "## Coeficientes de atenuação"
      ]
    },
    {
      "cell_type": "markdown",
      "metadata": {
        "id": "uRx8YGgjxU7B"
      },
      "source": [
        "Os coeficientes de atenuação são fornecidos por bases de dados, como o [XCOM](https://www.nist.gov/pml/xcom-photon-cross-sections-database) do NIST. Lá são encontrados os coeficientes para todos os elementos da tabela periódica e também de alguns compostos. Também são referenciados os trabalhos teóricos que forneceram a tabela como resultado.\n",
        "\n"
      ]
    },
    {
      "cell_type": "code",
      "metadata": {
        "id": "1aWMKwYHlyry"
      },
      "source": [
        "Z = 13\n",
        "data = np.loadtxt(os.path.join(DATA_FOLDER,'XCOM','XCOM_z_'+str(Z)+'.dat'))\n",
        "En = data[:,0]\n",
        "mu = data[:,6]\n",
        "\n",
        "# espalhamento\n",
        "plt.plot(data[:,0],data[:,1],'b',label='Espalhamento coerente')\n",
        "plt.fill_between(data[:,0],data[:,1],1e-12,alpha=0.3,color='b')\n",
        "plt.plot(data[:,0],data[:,2],'r',label='Espalhamento incoerente')\n",
        "plt.fill_between(data[:,0],data[:,2],1e-12,alpha=0.3,color='r')\n",
        "\n",
        "# fotoelétrico\n",
        "plt.plot(data[:,0],data[:,3],'g',label='Efeito fotoelétrico')\n",
        "plt.fill_between(data[:,0],data[:,3],1e-12,alpha=0.3,color='g')\n",
        "\n",
        "# produção de pares\n",
        "plt.plot(data[:,0],data[:,4]+data[:,5],'m',label='Produção de pares')\n",
        "plt.fill_between(data[:,0],data[:,4]+data[:,5],1e-12,alpha=0.3,color='m')\n",
        "\n",
        "plt.plot(data[:,0],data[:,6],'k',label='Total',linewidth=3)\n",
        "plt.legend()\n",
        "\n",
        "plt.yscale('log')\n",
        "plt.xscale('log')\n",
        "\n",
        "plt.ylim(ymin=1e-6)\n",
        "plt.xlim(xmin=1e0,xmax=1e8)\n",
        "plt.xlabel('Energia do fóton / keV',fontsize=14)\n",
        "plt.ylabel('Coeficiente de atenuação (cm$^2$/g)',fontsize=14)\n",
        "plt.tight_layout()"
      ],
      "execution_count": null,
      "outputs": []
    },
    {
      "cell_type": "markdown",
      "metadata": {
        "id": "zxHfJPir1CkE"
      },
      "source": [
        "## O fenômeno predomenante"
      ]
    },
    {
      "cell_type": "markdown",
      "metadata": {
        "id": "IQzteDfe1KCL"
      },
      "source": [
        "O fenômeno físico que predomina nas interações depende da energia do fóton.\n",
        "\n",
        "Dado que um evento ocorreu, qual fenômeno é mais provável?"
      ]
    },
    {
      "cell_type": "code",
      "metadata": {
        "id": "BE6P3NVtHn1l"
      },
      "source": [
        "# espalhamento\n",
        "plt.plot(data[:,0],data[:,1]/data[:,6],'b',label='Espalhamento coerente')\n",
        "plt.plot(data[:,0],data[:,2]/data[:,6],'r',label='Espalhamento incoerente')\n",
        "\n",
        "# fotoelétrico\n",
        "plt.plot(data[:,0],data[:,3]/data[:,6],'g',label='Efeito fotoelétrico')\n",
        "\n",
        "# produção de pares\n",
        "plt.plot(data[:,0],(data[:,4]+data[:,5])/data[:,6],'m',label='Produção de pares')\n",
        "\n",
        "plt.legend(loc=4)\n",
        "\n",
        "#plt.yscale('log')\n",
        "plt.xscale('log')\n",
        "\n",
        "plt.ylim(ymin=1e-6)\n",
        "plt.xlim(xmin=1e0,xmax=1e8)\n",
        "plt.xlabel('Energia do fóton / keV',fontsize=14)\n",
        "plt.ylabel('Coeficiente de atenuação (cm$^2$/g)',fontsize=14)\n",
        "plt.tight_layout()"
      ],
      "execution_count": null,
      "outputs": []
    },
    {
      "cell_type": "markdown",
      "metadata": {
        "id": "CYO9S94E0C9J"
      },
      "source": [
        "## Relação entre coeficiente de atenuação e seção de choque"
      ]
    },
    {
      "cell_type": "markdown",
      "metadata": {
        "id": "Zo0Lc0uW0JWp"
      },
      "source": [
        "O coeficiente de atenuação é relacionado com a seção de choque da seguinte forma:\n",
        "\n",
        "$$ \\frac{\\mu}{\\rho} = \\frac{\\sigma N_A}{M}$$\n",
        "\n",
        "A unidade usual de seção de choque é o barn.\n",
        "\n",
        "$$ 1 cm^2 = 1\\times 10^{24} barn$$\n",
        "\n",
        "\n"
      ]
    },
    {
      "cell_type": "code",
      "metadata": {
        "id": "D_kfnOcZyPFI"
      },
      "source": [
        "M = 26.982 # g/mol\n",
        "Na = 6.022e23\n",
        "\n",
        "# espalhamento\n",
        "plt.plot(data[:,0],data[:,1]*(M/Na)*1.0e24,'b',label='Espalhamento coerente')\n",
        "plt.fill_between(data[:,0],data[:,1]*(M/Na)*1.0e24,1e-50,alpha=0.3,color='b')\n",
        "plt.plot(data[:,0],data[:,2]*(M/Na)*1.0e24,'r',label='Espalhamento incoerente')\n",
        "plt.fill_between(data[:,0],data[:,2]*(M/Na)*1.0e24,1e-50,alpha=0.3,color='r')\n",
        "\n",
        "# fotoelétrico\n",
        "plt.plot(data[:,0],data[:,3]*(M/Na)*1.0e24,'g',label='Efeito fotoelétrico')\n",
        "plt.fill_between(data[:,0],data[:,3]*(M/Na)*1.0e24,1e-50,alpha=0.3,color='g')\n",
        "\n",
        "# produção de pares\n",
        "plt.plot(data[:,0],(data[:,4]+data[:,5])*(M/Na)*1.0e24,'m',label='Produção de pares')\n",
        "plt.fill_between(data[:,0],(data[:,4]+data[:,5])*(M/Na)*1.0e24,1e-50,alpha=0.3,color='m')\n",
        "\n",
        "plt.plot(data[:,0],data[:,6]*(M/Na)*1.0e24,'k',label='Total',linewidth=3)\n",
        "plt.legend()\n",
        "\n",
        "plt.yscale('log')\n",
        "plt.xscale('log')\n",
        "\n",
        "plt.ylim(ymin=1e-7)\n",
        "plt.xlim(xmin=1e0,xmax=1e8)\n",
        "plt.xlabel('Energia do fóton / keV',fontsize=14)\n",
        "plt.ylabel('Seção de choque (barn)',fontsize=14)\n",
        "plt.tight_layout()"
      ],
      "execution_count": null,
      "outputs": []
    },
    {
      "cell_type": "markdown",
      "metadata": {
        "id": "lZOQo1sV1jQM"
      },
      "source": [
        "# Atividade 2-B: Filtros de raios x"
      ]
    },
    {
      "cell_type": "markdown",
      "metadata": {
        "id": "7XQeDSgp4bnI"
      },
      "source": [
        "## Transmitância de um filtro"
      ]
    },
    {
      "cell_type": "markdown",
      "metadata": {
        "id": "ic23I7mS1nZj"
      },
      "source": [
        "Um filtro de raio x é uma folha de material escolhido adequadamente para se bloquear a passagem de certas radiações.\n",
        "\n",
        "Normalmente se bloqueia a passagem de raios x de baixa energia, mas é possível utilizar as bordas de absorção do efeito fotoelétrico para se absorver energias específicas.\n",
        "\n",
        "Confira as energia de emissão e de bordas de absorção [aqui](https://xdb.lbl.gov/Section1/Periodic_Table/X-ray_Elements.html).\n",
        "\n",
        "A transmitância de um filtro de raios x é dado pela quantidade:\n",
        "\n",
        "$$ T = \\frac{I}{I_0} = e^{-[ \\frac{\\mu}{\\rho} ] \\cdot x} $$"
      ]
    },
    {
      "cell_type": "code",
      "metadata": {
        "id": "U8YZdqJSmHCD"
      },
      "source": [
        "x = 50.0e-3 # g/cm2\n",
        "\n",
        "T = np.exp(-1*mu*x)\n",
        "\n",
        "plt.plot(En,T*100)\n",
        "plt.ylim(ymax=110.0,ymin=0.01)\n",
        "plt.yscale('log')\n",
        "plt.xscale('log')\n",
        "plt.xlabel('Energia do fóton / keV',fontsize=14)\n",
        "plt.ylabel('Transmitância',fontsize=14);"
      ],
      "execution_count": null,
      "outputs": []
    },
    {
      "cell_type": "markdown",
      "metadata": {
        "id": "j9L03g0r2iPW"
      },
      "source": [
        "O intervalo de interessa para PIXE se encontra entre 1 keV e ~20 keV"
      ]
    },
    {
      "cell_type": "code",
      "metadata": {
        "id": "vFu4WUvkrgO_"
      },
      "source": [
        "plt.plot(En,T*100)\n",
        "plt.ylim(ymax=110.0,ymin=0.01)\n",
        "plt.xlim(xmin=1.0,xmax=20.0)\n",
        "plt.yscale('log')\n",
        "plt.xscale('log')\n",
        "plt.xlabel('Energia do fóton / keV',fontsize=14)\n",
        "plt.ylabel('Transmitância (%)',fontsize=14);"
      ],
      "execution_count": null,
      "outputs": []
    },
    {
      "cell_type": "markdown",
      "metadata": {
        "id": "uoypxxzw2xrQ"
      },
      "source": [
        "## O \"funny filter\""
      ]
    },
    {
      "cell_type": "markdown",
      "metadata": {
        "id": "bHerNgg-216F"
      },
      "source": [
        "Um funny filter é um filtro de radiação, como visto acima, mas com alguns orifícios que permitem a passagem direta da radiação.\n",
        "\n",
        "Um funny filter é caracterizado pela razão de área aberta pela área total do filtro."
      ]
    },
    {
      "cell_type": "code",
      "metadata": {
        "id": "ei3enGxbn1yJ"
      },
      "source": [
        "p = 0.05\n",
        "\n",
        "Tfunny = p*np.ones(T.shape) + (1-p)*T\n",
        "plt.plot(En,Tfunny*100)\n",
        "plt.ylim(ymax=110.0,ymin=0.01)\n",
        "plt.yscale('log')\n",
        "plt.xscale('log')\n",
        "plt.xlabel('Energia do fóton / keV',fontsize=14)\n",
        "plt.ylabel('Transmitância',fontsize=14);"
      ],
      "execution_count": null,
      "outputs": []
    },
    {
      "cell_type": "code",
      "metadata": {
        "id": "A1tDstzppwVg"
      },
      "source": [
        "plt.plot(En,Tfunny)\n",
        "plt.ylim(ymax=110.0,ymin=0.01)\n",
        "plt.xlim(xmin=1.0,xmax=20.0)\n",
        "plt.yscale('log')\n",
        "plt.xscale('log')\n",
        "plt.xlabel('Energia do fóton / keV',fontsize=14)\n",
        "plt.ylabel('Transmitância',fontsize=14);"
      ],
      "execution_count": null,
      "outputs": []
    },
    {
      "cell_type": "markdown",
      "metadata": {
        "id": "q6RWoZGM4KIf"
      },
      "source": [
        "# Atividade 3-C: Eficiência de detecção de raiox x"
      ]
    },
    {
      "cell_type": "markdown",
      "metadata": {
        "id": "wy_0D9bS4uYT"
      },
      "source": [
        "A eficiência de detecção de raios x em um detector depende da capacidade de converter o raio x em carga elétrica dentro de um volume sensível do detector.\n",
        "\n",
        "**Qual o processo para se converter um fóton em carga elétrica?**\n",
        "\n",
        "**Qual a característica do volume sensível que é importante para se calcular a probabilidade de converção do fóton em carga?**\n",
        "\n"
      ]
    },
    {
      "cell_type": "code",
      "metadata": {
        "id": "VljAzt40sYbH"
      },
      "source": [
        "data_si = np.loadtxt(os.path.join(DATA_FOLDER,'XCOM','XCOM_z_14.dat'))\n",
        "En_si = data[:,0]\n",
        "mu_si_fe = data[:,3]\n",
        "th_det = 100.0 * 1e-4 * 2.322\n",
        "\n",
        "p_fe = 1-np.exp(-1*mu_si_fe*th_det)\n",
        "\n",
        "plt.plot(En_si,p_fe)\n",
        "plt.ylim(ymax=1.05,ymin=0.0)\n",
        "#plt.yscale('log')\n",
        "#plt.xscale('log')\n",
        "plt.xlabel('Energia do fóton / keV',fontsize=14)\n",
        "plt.ylabel('Eficiência do detector',fontsize=14);"
      ],
      "execution_count": null,
      "outputs": []
    },
    {
      "cell_type": "code",
      "metadata": {
        "id": "pE1jQwZutNxw"
      },
      "source": [
        "plt.plot(En_si,p_fe)\n",
        "plt.ylim(ymax=1.05,ymin=0.0)\n",
        "plt.xlim(xmin=1.0,xmax=30.0)\n",
        "#plt.yscale('log')\n",
        "#plt.xscale('log')\n",
        "plt.xlabel('Energia do fóton / keV',fontsize=14)\n",
        "plt.ylabel('Eficiência do detector',fontsize=14);"
      ],
      "execution_count": null,
      "outputs": []
    },
    {
      "cell_type": "markdown",
      "metadata": {
        "id": "YleIt8155UFb"
      },
      "source": [
        "## Compondo a eficiência com um filtro de radiação"
      ]
    },
    {
      "cell_type": "code",
      "metadata": {
        "id": "VWKRFIrJuOu3"
      },
      "source": [
        "plt.plot(En_si,p_fe,label='Eficiência')\n",
        "plt.plot(En,Tfunny,label='Transmitância')\n",
        "plt.ylim(ymax=1.05,ymin=0.0)\n",
        "plt.xlim(xmin=1.0,xmax=30.0)\n",
        "plt.xlabel('Energia do fóton / keV',fontsize=14)\n",
        "plt.ylabel('Transmitância',fontsize=14);"
      ],
      "execution_count": null,
      "outputs": []
    },
    {
      "cell_type": "code",
      "metadata": {
        "id": "s-rSlLSJugir"
      },
      "source": [
        "def interactive_func ( x=50.0, p=0.0, th_det=100.0 ):\n",
        "\n",
        "  x = x * 1e-4 * 2.700 # g/cm2\n",
        "  th_det = th_det * 1e-4 * 2.322 # g/cm2\n",
        "\n",
        "  data = np.loadtxt(os.path.join(DATA_FOLDER,'XCOM','XCOM_z_13.dat'))\n",
        "  En = data[:,0]\n",
        "  mu = data[:,6]\n",
        "  mu_interp = interp1d(En,mu,kind='cubic')\n",
        "  \n",
        "  data_si = np.loadtxt(os.path.join(DATA_FOLDER,'XCOM','XCOM_z_14.dat'))\n",
        "  En_si = data[:,0]\n",
        "  mu_si_fe = data[:,3]\n",
        "  mu_si_fe_interp = interp1d(En_si,mu_si_fe,kind='cubic')\n",
        "\n",
        "  Efinal = np.concatenate((En,En_si),axis=0)\n",
        "  Efinal = np.unique(Efinal)\n",
        "  \n",
        "  T = np.exp(-1*mu_interp(Efinal)*x)\n",
        "  Tfunny = p*np.ones(T.shape) + (1-p)*T\n",
        "\n",
        "  p_fe = 1-np.exp(-1*mu_si_fe_interp(Efinal)*th_det)\n",
        "\n",
        "  plt.plot(Efinal,T,'--b',label='Absorção Filter')\n",
        "  plt.plot(Efinal,Tfunny,'-b',label='Absorção Funny-Filter')\n",
        "  plt.plot(Efinal,p_fe,'-r',label='Eficiência do detector')\n",
        "  plt.plot(Efinal,p_fe*Tfunny,'-k',label='Total',linewidth=4)\n",
        "  plt.ylim(ymax=1.05,ymin=0.0)\n",
        "  plt.xlim(xmin=1.0,xmax=20.0)\n",
        "  plt.legend()\n",
        "  plt.ylabel('Sensibilidade',fontsize=14)\n",
        "  plt.xlabel('Energia / keV',fontsize=14)\n",
        "  plt.tight_layout()\n"
      ],
      "execution_count": 37,
      "outputs": []
    },
    {
      "cell_type": "code",
      "metadata": {
        "id": "HiyCdLfkwUZ0"
      },
      "source": [
        "from ipywidgets import interactive \n",
        "interactive_plot = interactive(interactive_func, x=(0.0,100.0,1.0), p=(0.0,0.5,0.05), th_det=(10,500,10))\n",
        "interactive_plot"
      ],
      "execution_count": null,
      "outputs": []
    }
  ]
}