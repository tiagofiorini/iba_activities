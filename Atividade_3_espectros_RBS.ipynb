{
  "nbformat": 4,
  "nbformat_minor": 0,
  "metadata": {
    "colab": {
      "name": "Atividade_3_espectros_RBS.ipynb",
      "provenance": [],
      "collapsed_sections": []
    },
    "kernelspec": {
      "name": "python3",
      "display_name": "Python 3"
    },
    "language_info": {
      "name": "python"
    }
  },
  "cells": [
    {
      "cell_type": "code",
      "metadata": {
        "colab": {
          "base_uri": "https://localhost:8080/"
        },
        "id": "Icn_FljhPJVG",
        "outputId": "b967ef6f-27f1-4d72-8cc8-f5e32d13c83b"
      },
      "source": [
        "## Preparação do ambiente\n",
        "# Carregando as bibliotecas necessárias\n",
        "%matplotlib inline\n",
        "\n",
        "import numpy as np\n",
        "import matplotlib.pyplot as plt\n",
        "from scipy.integrate import quad, odeint\n",
        "from scipy.interpolate import interp1d\n",
        "from ipywidgets import Layout, interact, IntSlider\n",
        "\n",
        "import os as os\n",
        "DATA_FOLDER = os.path.join(os.getcwd(),'iba_activities')\n",
        "\n",
        "!git clone https://github.com/tiagofiorini/iba_activities.git"
      ],
      "execution_count": 130,
      "outputs": [
        {
          "output_type": "stream",
          "name": "stdout",
          "text": [
            "fatal: destination path 'iba_activities' already exists and is not an empty directory.\n"
          ]
        }
      ]
    },
    {
      "cell_type": "markdown",
      "metadata": {
        "id": "CNX9o6AsKrQS"
      },
      "source": [
        "# Atividade 1A - O poder de discriminação da técnica RBS"
      ]
    },
    {
      "cell_type": "markdown",
      "metadata": {
        "id": "nl0ZoB_KKxAq"
      },
      "source": [
        "## Introdução"
      ]
    },
    {
      "cell_type": "markdown",
      "metadata": {
        "id": "YCrvYuhjK2H9"
      },
      "source": [
        "O fator cinemático $K$ informa a fração da energia inicial do íon que é retida com ele após uma colisão com um átomo do material alvo, em que o íon incidente sai com um ângulo $\\theta$ em relação com sua direção inicial.\n",
        "\n",
        "$K= \\left( \\frac{A_1}{A_1+A_2}  \\right)^2 \\left[ \\cos \\theta + \\sqrt{ \\frac{A_2^2}{A_1^2} - \\sin^2 \\theta } \\right]^2 $\n",
        "\n",
        "É pelo fator cinemátice que fazemos a diferenciação elementar com a técnica RBS. O poder de discriminação é definido como:\n",
        "\n",
        "$ PD = \\frac{E_A - E_{A+1}} {\\sigma} = \\frac{K(A_1,A_2) - K(A_1,A_2-1)} {\\sigma} E_0 = \\frac{K(A_1,A_2) - K(A_1,A_2-1)} {F}  $\n",
        "com $F$ sendo $F = \\sigma / E_0$\n",
        "\n",
        "\n"
      ]
    },
    {
      "cell_type": "code",
      "metadata": {
        "id": "-v3822iJSfMw"
      },
      "source": [
        "# Definição da função que calcula o fator cinemático\n",
        "def K ( A1, A2, theta):\n",
        "  if A1 < A2:\n",
        "    K = ( A1**2 / (A1 + A2)**2 ) * (np.cos(theta) + np.sqrt((A2/A1)**2 - np.sin(theta)**2) )**2\n",
        "  elif np.arcsin(A2/A1) > theta:\n",
        "    K = ( A1**2 / (A1 + A2)**2 ) * (np.cos(theta) + np.sqrt((A2/A1)**2 - np.sin(theta)**2) )**2\n",
        "  return K"
      ],
      "execution_count": 131,
      "outputs": []
    },
    {
      "cell_type": "markdown",
      "metadata": {
        "id": "MCBLODa3NNFa"
      },
      "source": [
        "Vamos tentar descobrir os materiais que compõem as amostras cujos espectros foram simulados, e guardados nos arquivos spec?.dat."
      ]
    },
    {
      "cell_type": "code",
      "metadata": {
        "id": "WmwaTkR3bK5u"
      },
      "source": [
        "file_name = 'spec1.dat'\n",
        "\n",
        "data = np.loadtxt(os.path.join(DATA_FOLDER,file_name))[:,2]\n",
        "\n",
        "def interactive_func1 ( aA = 12, aB = 5):  \n",
        "  theta = np.radians(120)\n",
        "  E0 = 2200\n",
        "  cmax = 1.1*data.max()\n",
        "  EA = E0 * K(4,aA,theta)\n",
        "  EB = E0 * K(4,aB,theta)\n",
        "  plt.figure(figsize=(10,6))\n",
        "  plt.vlines(EA,0,cmax,colors='r')\n",
        "  plt.vlines(EB,0,cmax,colors='g')  \n",
        "  plt.xlim(xmin=0.0,xmax=2200)\n",
        "  plt.ylim(ymin=0.0,ymax=cmax)\n",
        "  plt.step(np.arange(0,len(data),1),data,'k')\n",
        "  plt.xlabel('Energia (keV)',fontsize=16)\n",
        "  plt.ylabel('Counts (#)',fontsize=16)\n",
        "  plt.tick_params(labelsize=14)\n",
        "\n",
        "interactive_plot = interactive(interactive_func1, aA=IntSlider(5.0,5.0,250.0,1.0,layout=Layout(width='1000px')), aB=IntSlider(5.0,5.0,250.0,1.0,layout=Layout(width='1000px')))\n",
        "interactive_plot"
      ],
      "execution_count": null,
      "outputs": []
    },
    {
      "cell_type": "markdown",
      "metadata": {
        "id": "Fp6E89tgOw-9"
      },
      "source": [
        "Agora, vamos tentar descobrir os elementos que compõem a amostra cujo espectro experimental medido está guardado no arquivo R042544P.dat."
      ]
    },
    {
      "cell_type": "code",
      "metadata": {
        "id": "Mk_9Yo3xRcC0"
      },
      "source": [
        "Exp_data = np.loadtxt(os.path.join(DATA_FOLDER,'R042544P.dat'))\n",
        "\n",
        "def interactive_func2 ( aA = 12, aB = 5):  \n",
        "  theta = np.radians(120)\n",
        "  E0 = 2200\n",
        "  cmax = 1.1*Exp_data[25:].max()\n",
        "  EA = (E0 * K(4,aA,theta) - 166.733)/5.27912\n",
        "  EB = (E0 * K(4,aB,theta) - 166.733)/5.27912\n",
        "  plt.figure(figsize=(10,6))\n",
        "  plt.vlines(EA,0,cmax,colors='r')\n",
        "  plt.vlines(EB,0,cmax,colors='g')  \n",
        "  plt.xlim(xmin=25.0,xmax=1024)\n",
        "  plt.ylim(ymin=0.0,ymax=cmax)\n",
        "  plt.step(np.arange(0,1024,1),Exp_data,'k')\n",
        "  plt.xlabel('Energia (keV)',fontsize=16)\n",
        "  plt.ylabel('Counts (#)',fontsize=16)\n",
        "  plt.tick_params(labelsize=14)\n",
        "\n",
        "interactive_plot = interactive(interactive_func2, aA=(5.0,250.0,1.0), aB=(5.0,250.0,1.0))\n",
        "interactive_plot"
      ],
      "execution_count": null,
      "outputs": []
    },
    {
      "cell_type": "markdown",
      "metadata": {
        "id": "9GSqyM84QHhH"
      },
      "source": [
        "# Atividade 3B - Encontrando proporções com um espectro RBS"
      ]
    },
    {
      "cell_type": "markdown",
      "metadata": {
        "id": "gJEGSJN-QOrJ"
      },
      "source": [
        "## Introdução"
      ]
    },
    {
      "cell_type": "markdown",
      "metadata": {
        "id": "C2j-cOTXQR5C"
      },
      "source": [
        "A área total de um pico no espectro RBS pode ser aproximada pela expressão:\n",
        "$ Area = \\bar{\\sigma_i} (E_0) \\cdot \\Omega \\cdot Q \\cdot N_t \\cdot \\left( \\frac{t} {cos \\theta}  \\right) $\n",
        "\n",
        "Num mesmo espectro, as áreas de dois picos de elementos diferentes (mas na mesma camada!) pode ser relacionada da seguinde forma:\n",
        "\n",
        "$ \\frac{Area_1}{Area_2} = \\frac{\\bar{\\sigma_1} (E_0)} {\\bar{\\sigma_2} (E_0)} \\cdot \\left( \\frac{N_1}{N_2} \\right)$\n",
        "\n",
        "Para o caso em que ambos os elementos tenham suas condições de espalhamento no domínio da seção de choque Rutherford (potencial Coulombiano), essa espressão pode ser reescrita como:\n",
        "\n",
        "$ \\frac{Area_1}{Area_2} = \\left( \\frac{Z_1} {Z_2} \\right)^2 \\cdot \\left( \\frac{N_1}{N_2} \\right)$\n",
        "\n",
        "Podemos utilizar essa relação para encontrar as proporções dos elementos diretamente.\n",
        "\n"
      ]
    },
    {
      "cell_type": "code",
      "metadata": {
        "id": "MzxewpA_Velk"
      },
      "source": [
        "file_name = 'spec2.dat'\n",
        "\n",
        "data = np.loadtxt(os.path.join(DATA_FOLDER,file_name))[:,2]\n",
        "\n",
        "def interactive_func1 ( canal_inicial = 12, delta_canal = 0):  \n",
        "\n",
        "  cmax = 1.1*data.max()\n",
        "  \n",
        "  canal_final = len(data)-1 if len(data)-1 < (canal_inicial+delta_canal) else (canal_inicial+delta_canal)\n",
        "  print(canal_final)\n",
        "\n",
        "  plt.figure(figsize=(10,6))\n",
        "  plt.vlines(canal_inicial,0,cmax,colors='r')\n",
        "  plt.vlines(canal_final,0,cmax,colors='r')  \n",
        "  plt.fill_between(np.arange(canal_inicial,canal_final,1),0,cmax,color='r',alpha=0.2)\n",
        "\n",
        "  plt.fill_between( [canal_inicial,canal_final], 0, [data[int(canal_inicial)], data[int(canal_final)]] ,color='r',alpha=0.2)\n",
        "  \n",
        "  plt.xlim(xmin=0.0,xmax=2200)\n",
        "  plt.ylim(ymin=0.0,ymax=cmax)\n",
        "  plt.step(np.arange(0,len(data),1),data,'k')\n",
        "  plt.xlabel('Energia (keV)',fontsize=16)\n",
        "  plt.ylabel('Counts (#)',fontsize=16)\n",
        "  plt.tick_params(labelsize=14)\n",
        "  Area = data[int(canal_inicial):int(canal_final)].sum()\n",
        "  print('Área = %.0f'%(Area))\n",
        "  Bg = (data[int(canal_inicial)]+data[int(canal_final)])*(canal_final-canal_inicial)/2\n",
        "  print('Fundo = %.1f'%( Bg ))\n",
        "  print('Área líquida = %.1f'%(Area-Bg))\n",
        "\n",
        "\n",
        "interactive_plot = interactive(interactive_func1, canal_inicial=IntSlider(5.0,5.0,canal_final,1.0,layout=Layout(width='1000px')), delta_canal=IntSlider(0.0,0.0,300,1,layout=Layout(width='1000px')))\n",
        "interactive_plot"
      ],
      "execution_count": null,
      "outputs": []
    },
    {
      "cell_type": "markdown",
      "metadata": {
        "id": "kRINfIpabdE7"
      },
      "source": [
        "Vamos agora, encontrar as proporções entre os elementos em um espectro experimental."
      ]
    },
    {
      "cell_type": "code",
      "metadata": {
        "id": "Fv7Bbp72a-bC"
      },
      "source": [
        "file_name = 'R042544P.dat'\n",
        "\n",
        "data = np.loadtxt(os.path.join(DATA_FOLDER,file_name))\n",
        "\n",
        "def interactive_func1 ( canal_inicial = 12, delta_canal = 0):  \n",
        "\n",
        "  cmax = 1.1*data[25:].max()\n",
        "  \n",
        "  canal_final = len(data)-1 if len(data)-1 < (canal_inicial+delta_canal) else (canal_inicial+delta_canal)\n",
        "  print(canal_final)\n",
        "\n",
        "  plt.figure(figsize=(10,6))\n",
        "  plt.vlines(canal_inicial,0,cmax,colors='r')\n",
        "  plt.vlines(canal_final,0,cmax,colors='r')  \n",
        "  plt.fill_between(np.arange(canal_inicial,canal_final,1),0,cmax,color='r',alpha=0.2)\n",
        "\n",
        "  plt.fill_between( [canal_inicial,canal_final], 0, [data[int(canal_inicial)], data[int(canal_final)]] ,color='r',alpha=0.2)\n",
        "  \n",
        "  plt.xlim(xmin=25.0,xmax=1024)\n",
        "  plt.ylim(ymin=0.0,ymax=cmax)\n",
        "  plt.step(np.arange(0,len(data),1),data,'k')\n",
        "  plt.xlabel('Energia (keV)',fontsize=16)\n",
        "  plt.ylabel('Counts (#)',fontsize=16)\n",
        "  plt.tick_params(labelsize=14)\n",
        "  Area = data[int(canal_inicial):int(canal_final)].sum()\n",
        "  print('Área = %.0f'%(Area))\n",
        "  Bg = (data[int(canal_inicial)]+data[int(canal_final)])*(canal_final-canal_inicial)/2\n",
        "  print('Fundo = %.1f'%( Bg ))\n",
        "  print('Área líquida = %.1f'%(Area-Bg))\n",
        "\n",
        "\n",
        "interactive_plot = interactive(interactive_func1, canal_inicial=IntSlider(5.0,5.0,canal_final,1.0,layout=Layout(width='1000px')), delta_canal=IntSlider(0.0,0.0,300,1,layout=Layout(width='1000px')))\n",
        "interactive_plot"
      ],
      "execution_count": null,
      "outputs": []
    }
  ]
}